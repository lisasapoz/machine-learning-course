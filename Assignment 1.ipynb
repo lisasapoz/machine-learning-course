{
 "cells": [
  {
   "cell_type": "markdown",
   "metadata": {},
   "source": [
    "# Assignment 1 - Probability, Linear Algebra, Programming, and Git\n",
    "\n",
    "## Lisa Sapozhnikov\n",
    "Netid:  ls258"
   ]
  },
  {
   "cell_type": "markdown",
   "metadata": {},
   "source": [
    "# Probability and Statistics Theory"
   ]
  },
  {
   "cell_type": "markdown",
   "metadata": {
    "collapsed": true
   },
   "source": [
    "## 1\n",
    "Let $f(x) = \\begin{cases}\n",
    "                0           & x < 0  \\\\\n",
    "                \\alpha x^2  & 0 \\leq x \\leq 2 \\\\\n",
    "                0           & 2 < x\n",
    "            \\end{cases}$\n",
    "            \n",
    "For what value of $\\alpha$ is $f(x)$ a valid probability density function?\n",
    "\n",
    "*Note: for all assignments, write out all equations and math for all assignments using markdown and [LaTeX](https://tobi.oetiker.ch/lshort/lshort.pdf) and show all work*"
   ]
  },
  {
   "cell_type": "markdown",
   "metadata": {},
   "source": [
    "**Answer**\n",
    "\n",
    "In order for f(x) to be a valid probability density function, $f(x) \\geq 0$, and $\\int_{-\\infty}^{\\infty} f(x) dx = 1$.\n",
    "The value of $\\alpha$ which satisfies these conditions is $\\alpha = \\frac{3}{8}$."
   ]
  },
  {
   "cell_type": "markdown",
   "metadata": {},
   "source": [
    "## 2\n",
    "What is the cumulative distribution function (CDF) that corresponds to the following probability distribution function? Please state the value of the CDF for all possible values of $x$.\n",
    "\n",
    "$f(x) = \\begin{cases}\n",
    "    \\frac{1}{3} & 0 < x < 3 \\\\\n",
    "    0           & \\text{otherwise}\n",
    "    \\end{cases}$"
   ]
  },
  {
   "cell_type": "markdown",
   "metadata": {},
   "source": [
    "**ANSWER**\n",
    "\n",
    "For a probability distribution function, f(x), the cumulative distribution function, $F(x) = \\int_{-\\infty}^{x} f(t) dt$. F(x) represents the propability of having a value less than x.\n",
    "\n",
    "$F(x) = \\begin{cases}\n",
    "    0           & x < 0 \\\\\n",
    "    \\frac{x}{3} & 0 < x < 3 \\\\\n",
    "    1           & x > 3\n",
    "    \\end{cases}$"
   ]
  },
  {
   "cell_type": "markdown",
   "metadata": {},
   "source": [
    "## 3\n",
    "For the probability distribution function for the random variable $X$,\n",
    "\n",
    "$f(x) = \\begin{cases}\n",
    "    \\frac{1}{3} & 0 < x < 3 \\\\\n",
    "    0           & \\text{otherwise}\n",
    "    \\end{cases}$\n",
    "    \n",
    "what is the (a) expected value and (b) variance of $X$. *Show all work*."
   ]
  },
  {
   "cell_type": "markdown",
   "metadata": {},
   "source": [
    "**ANSWER**\n",
    "\n",
    "(a) Expected value:\n",
    "\n",
    "$E(x) = \\int_{a}^{b} x*f(x) dx$\n",
    "\n",
    "$E(x) = \\int_{0}^{3} x*\\frac{1}{3} dx$\n",
    "\n",
    "$E(x) = [\\frac{x^2}{6}]^3_0$\n",
    "\n",
    "$E(x) = \\frac{3}{2}$\n",
    "\n",
    "(b) Variance:\n",
    "\n",
    "$V(x) = \\int_{a}^{b} [(x-E(x))^2*f(x)] dx$ $\n",
    "\n",
    "$V(x) = \\int_{0}^{3} [(x-\\frac{3}{2})^2*\\frac{1}{3}] dx$\n",
    "\n",
    "$V(x) = \\int_{0}^{3} [(x^2-3x+\\frac{9}{4})*\\frac{1}{3}] dx$\n",
    "\n",
    "$V(x) = [\\frac{x^3}{9} - \\frac{x^2}{3} - \\frac{3x}{4}]^3_0 $\n",
    "\n",
    "$V(x) = \\frac{3}{4}$"
   ]
  },
  {
   "cell_type": "markdown",
   "metadata": {},
   "source": [
    "## 4\n",
    "Consider the following table of data that provides the values of a discrete data vector $\\mathbf{x}$ of samples from the random variable $X$, where each entry in $\\mathbf{x}$ is given as $x_i$.\n",
    "\n",
    "*Table 1. Dataset N=5 observations*\n",
    "\n",
    "|        | $x_0$ | $x_1$ | $x_2$ | $x_3$ | $x_4$ |\n",
    "|------  |-------|-------|-------|-------|-------|\n",
    "|$\\textbf{x}$| 2     | 3     | 10    | -1    | -1    |\n",
    "\n",
    "What is the (a) mean, (b) variance, and the  of the data? \n",
    "\n",
    "*Show all work. Your answer should include the definition of mean, median, and variance in the context of discrete data.*"
   ]
  },
  {
   "cell_type": "markdown",
   "metadata": {},
   "source": [
    "**ANSWER**\n",
    "\n",
    "(a) Mean\n",
    "\n",
    "The mean is the artithmetic average, i.e. the sum of all the data point values divided by the number of data points taken. \n",
    "\n",
    "$\\bar{x} = \\frac{2+3+10-1-1}{5}$\n",
    "\n",
    "In the above data set, the mean is **2.6**.\n",
    "\n",
    "(b) Variance\n",
    "\n",
    "The variance is the average of the squared differences from the mean. More plainly, it is a measure of how spread out the data points are. Since the above data is a sample, we calculate the average as if it is for $n-1$ data points, \n",
    "\n",
    "$\\sigma^2 = \\frac{(2-2.6)^2+(3-2.6)^2+(10-2.6)^2+(-1-2.6)^2+(-1-2.6)^2}{5-1} $\n",
    "\n",
    "In the above data set, the variance is **20.3**.\n",
    "\n",
    "(c) Median\n",
    "\n",
    "The median is the data point with the middle value contained in the dataset. The median data point is exactly in the middle of all the other data points. In the above data set, the median is **2**.\n",
    "\n"
   ]
  },
  {
   "cell_type": "markdown",
   "metadata": {},
   "source": [
    "## 5\n",
    "Review of counting from probability theory. \n",
    "\n",
    "(a) How many different 7-place licence plates are possible if the first 3 places only contain letters and the last 4 only contain numbers?\n",
    "\n",
    "(b) How many different batting orders are possible for a baseball team with 9 players?\n",
    "\n",
    "(c) How many batting orders of 5 players are possible for a team with 9 players total?\n",
    "\n",
    "(d) Let's assume this class has 26 students and we want to form project teams. How many unique teams of 3 are possible?\n",
    "\n",
    "*Hint: For each problem, determine if order matters, and if it should be calculated with or without replacement.*"
   ]
  },
  {
   "cell_type": "markdown",
   "metadata": {},
   "source": [
    "**ANSWER**\n",
    "\n",
    "(a) License plates are allowed to repeat letters and numbers, so once a letter or number is used, it can be replaced and considered for the next letter or number choice. Without replacement, for each of the three letter choices there are 26 possible options, and for each of the four number choices there are 10 possible options.\n",
    "\n",
    "$26^3 * 10^4 = 175760000$\n",
    "\n",
    "(b) In this case, the order of the 9 players matters. And once a player bats, they will not bat again, i.e. players are not replaced. This is a permuation.\n",
    "\n",
    "$_9P_9 = 362880$\n",
    "\n",
    "(c) Again, the players are not replaced and their order matters. But now, only 5 players make up a batting order. \n",
    "\n",
    "$_9P_5 = 15120$\n",
    "\n",
    "(d) In this case, students are not replaced, but order does not matter. A group of 3 is the same group of 3 regardless of which order its members were chosen in. This is a combination.\n",
    "\n",
    "$_{26}C_3 = 2600$\n",
    "\n"
   ]
  },
  {
   "cell_type": "markdown",
   "metadata": {},
   "source": [
    "# Linear Algebra"
   ]
  },
  {
   "cell_type": "markdown",
   "metadata": {},
   "source": [
    "## 6\n",
    "**Matrix manipulations and multiplication**. Machine learning involves working with many matrices, so this exercise will provide you with the opportunity to practice those skills.\n",
    "\n",
    "Let\n",
    "$\\mathbf{A} =  \\begin{bmatrix}\n",
    "1 & 2 & 3 \\\\\n",
    "2 & 4 & 5 \\\\\n",
    "3 & 5 & 6 \n",
    "\\end{bmatrix}$, $\\mathbf{b} =  \\begin{bmatrix}\n",
    "-1  \\\\\n",
    "3  \\\\\n",
    "8  \n",
    "\\end{bmatrix}$, $\\mathbf{c} =  \\begin{bmatrix}\n",
    "4  \\\\\n",
    "-3  \\\\\n",
    "6  \n",
    "\\end{bmatrix}$, and $\\mathbf{I} =  \\begin{bmatrix}\n",
    "1 & 0 & 0 \\\\\n",
    "0 & 1 & 0 \\\\\n",
    "0 & 0 & 1 \n",
    "\\end{bmatrix}$\n",
    "\n",
    "Compute the following or indicate that it cannot be computed:\n",
    "\n",
    "1. $\\mathbf{A}\\mathbf{A}$\n",
    "2. $\\mathbf{A}\\mathbf{A}^T$\n",
    "3. $\\mathbf{A}\\mathbf{b}$\n",
    "4. $\\mathbf{A}\\mathbf{b}^T$\n",
    "5. $\\mathbf{b}\\mathbf{A}$\n",
    "6. $\\mathbf{b}^T\\mathbf{A}$\n",
    "7. $\\mathbf{b}\\mathbf{b}$\n",
    "8. $\\mathbf{b}^T\\mathbf{b}$\n",
    "9. $\\mathbf{b}\\mathbf{b}^T$\n",
    "10. $\\mathbf{b} + \\mathbf{c}^T$\n",
    "11. $\\mathbf{b}^T\\mathbf{b}^T$\n",
    "12. $\\mathbf{A}^{-1}\\mathbf{b}$\n",
    "13. $\\mathbf{A}\\circ\\mathbf{A}$\n",
    "14. $\\mathbf{b}\\circ\\mathbf{c}$\n",
    "\n",
    "*Note: The element-wise (or Hadamard) product is the product of each element in one matrix with the corresponding element in another matrix, and is represented by the symbol \"$\\circ$\".*"
   ]
  },
  {
   "cell_type": "markdown",
   "metadata": {},
   "source": [
    "**ANSWER**\n",
    "\n",
    "1. $\\mathbf{A}\\mathbf{A}$ = $\\begin{bmatrix}\n",
    "14 & 25 & 31 \\\\\n",
    "25 & 45 & 56 \\\\\n",
    "31 & 56 & 70 \n",
    "\\end{bmatrix}$\n",
    "2. $\\mathbf{A}\\mathbf{A}^T$ = $\\begin{bmatrix}\n",
    "14 & 25 & 31 \\\\\n",
    "25 & 45 & 56 \\\\\n",
    "31 & 56 & 70 \n",
    "\\end{bmatrix}$ \n",
    "3. $\\mathbf{A}\\mathbf{b}$ = $\\begin{bmatrix}\n",
    "29 \\\\\n",
    "50 \\\\\n",
    "60 \n",
    "\\end{bmatrix}$ \n",
    "4. $\\mathbf{A}\\mathbf{b}^T$ = cannot be computed\n",
    "5. $\\mathbf{b}\\mathbf{A}$ = cannot be computed\n",
    "6. $\\mathbf{b}^T\\mathbf{A}$ = $\\begin{bmatrix}\n",
    "29 & 50 & 60 \n",
    "\\end{bmatrix}$ \n",
    "7. $\\mathbf{b}\\mathbf{b}$ = cannot be computed\n",
    "8. $\\mathbf{b}^T\\mathbf{b}$ = $\\begin{bmatrix}\n",
    "74  \n",
    "\\end{bmatrix}$ \n",
    "9. $\\mathbf{b}\\mathbf{b}^T$ = $\\begin{bmatrix}\n",
    "1 & -3 & -8 \\\\\n",
    "-3 & 9 & 24 \\\\\n",
    "-8 & 24 & 64 \n",
    "\\end{bmatrix}$\n",
    "10. $\\mathbf{b} + \\mathbf{c}^T$ = cannot be computed\n",
    "11. $\\mathbf{b}^T\\mathbf{b}^T$ = cannot be computed\n",
    "12. $\\mathbf{A}^{-1}\\mathbf{b}$ :\n",
    "$\\mathbf{A}\\mathbf{A}^{-1}$ = $\\mathbf{A}^{-1}\\mathbf{A}$ = $\\mathbf{I}$,\n",
    "$\\mathbf{A}^{-1}$ = $\\begin{bmatrix}\n",
    "1 & -3 & 2 \\\\\n",
    "-3 & 3 & -1 \\\\\n",
    "2 & -1 & 0 \n",
    "\\end{bmatrix}$, \n",
    "$\\mathbf{A}^{-1}\\mathbf{b}$ = $\\begin{bmatrix}\n",
    "6 \\\\\n",
    "4 \\\\\n",
    "-5 \n",
    "\\end{bmatrix}$ \n",
    "13. $\\mathbf{A}\\circ\\mathbf{A}$ = $\\begin{bmatrix}\n",
    "1 & 4 & 9 \\\\\n",
    "4 & 16 & 25 \\\\\n",
    "9 & 25 & 36 \n",
    "\\end{bmatrix}$ \n",
    "14. $\\mathbf{b}\\circ\\mathbf{c}$ = $\\begin{bmatrix}\n",
    "-4 \\\\\n",
    "-9 \\\\\n",
    "48 \n",
    "\\end{bmatrix}$ "
   ]
  },
  {
   "cell_type": "markdown",
   "metadata": {},
   "source": [
    "## 6\n",
    "**Eigenvectors and eigenvalues**. Eigenvectors and eigenvalues are useful for some machine learning algorithms, but the concepts take time to solidly grasp. For an intuitive review of these concepts, explore this [interactive website at Setosa.io](http://setosa.io/ev/eigenvectors-and-eigenvalues/). Also, the series of linear algebra videos by Grant Sanderson of 3Brown1Blue are excellent and can be viewed on youtube [here](https://www.youtube.com/playlist?list=PLZHQObOWTQDPD3MizzM2xVFitgF8hE_ab).\n",
    "\n",
    "1. Calculate the eigenvalues and corresponding eigenvectors of matrix $\\mathbf{A}$ above, from the last question.\n",
    "2. Choose one of the eigenvector/eigenvalue pairs, $\\mathbf{v}$ and $\\lambda$, and show that $\\mathbf{A} \\mathbf{v} = \\lambda \\mathbf{v}$. Also show that this relationship extends to higher orders: $\\mathbf{A} \\mathbf{A} \\mathbf{v} = \\lambda^2 \\mathbf{v}$\n",
    "3. Show that the eigenvectors are orthogonal to one another (e.g. their inner product is zero). This is true for real, symmetric matrices. "
   ]
  },
  {
   "cell_type": "markdown",
   "metadata": {},
   "source": [
    "**ANSWER**\n",
    "\n",
    "1. To solve for the eigenvalues of matrix $\\mathbf{A}$, solve for the values of $\\lambda$ that solve $determinent(\\mathbf{A} - \\lambda\\mathbf{I})=0$. \n",
    "    \n",
    "    Eigenvalues: $\\lambda = -0.5157, 0.1709, 11.3448$\n",
    "    \n",
    "    To solve for the eigenvectors of matrix $\\mathbf{A}$, solve for the vectors, $v$, satisfying $(\\mathbf{A} - \\lambda\\mathbf{I})v=0$. \n",
    "    \n",
    "    For $\\lambda_1 = -0.5157$, $v_1 = (-1.2470, -0.5550, 1)$.\n",
    "    \n",
    "    For $\\lambda_2 = 0.1709$, $v_2 = (1.8019, -2.2470, 1)$.\n",
    "    \n",
    "    For $\\lambda_3 = 11.3448$, $v_3 = (0.4450, 0.8019, 1)$.\n",
    "    \n",
    "2. For $\\lambda_3$ and $v_3$, $\\mathbf{A} \\mathbf{v} = \\begin{bmatrix} 5.0488  \\\\ 9.0976  \\\\ 11.3445  \\end{bmatrix}$, $\\lambda\\mathbf{v} = \\begin{bmatrix} 5.0484  \\\\ 9.0974  \\\\ 11.3448 \\end{bmatrix}$. This verifies $\\mathbf{A} \\mathbf{v} = \\lambda \\mathbf{v}$.\n",
    "\n",
    "    $\\mathbf{A}\\mathbf{A} \\mathbf{v} = \\begin{bmatrix} 57.2775  \\\\ 103.2105  \\\\ 128.7014  \\end{bmatrix}$, $\\lambda^2\\mathbf{v} = \\begin{bmatrix} 57.2735  \\\\ 103.2081  \\\\ 128.7045 \\end{bmatrix}$. This verifies $\\mathbf{A}\\mathbf{A} \\mathbf{v} = \\lambda^2 \\mathbf{v}$.\n",
    "\n",
    "3. $v_1 \\cdot v_2 = 0.0001157$\n",
    "\n",
    "    $v_1 \\cdot v_3 = 0.0000305$\n",
    "    \n",
    "    $v_2 \\cdot v_3 = -0.0000238$\n",
    "    \n",
    "    As expected for a symmetric matrix, all the eigenvectors are orthogonal. \n",
    "    \n",
    "\n",
    "\n",
    "\n"
   ]
  },
  {
   "cell_type": "markdown",
   "metadata": {},
   "source": [
    "# Numerical Programming"
   ]
  },
  {
   "cell_type": "markdown",
   "metadata": {},
   "source": [
    "## 7\n",
    "Speed comparison between vectorized and non-vectorized code. Begin by creating an array of 10 million random numbers using the numpy random.randn module. Compute the sum of the squares first in a for loop, then using Numpy's `dot` module. Time how long it takes to compute each and report the results and report the output. How many times faster is the vectorized code than the for loop approach?\n",
    "\n",
    "*Note: all code should be well commented, properly formatted, and your answers should be output using the `print()` function as follows (where the # represents your answers, to a reasonable precision):\n",
    "\n",
    "`Time [sec] (non-vectorized): ######`\n",
    "\n",
    "`Time [sec] (vectorized):     ######`\n",
    "\n",
    "`The vectorized code is ##### times faster than the vectorized code`"
   ]
  },
  {
   "cell_type": "markdown",
   "metadata": {},
   "source": [
    "**ANSWER**"
   ]
  },
  {
   "cell_type": "code",
   "execution_count": 70,
   "metadata": {},
   "outputs": [
    {
     "name": "stdout",
     "output_type": "stream",
     "text": [
      "Time [sec] (non-vectorized): 0.040719\n",
      "Time [sec] vectorized: 0.004215\n",
      "The vectorized code is 9.659955 times faster than the vectorized code\n"
     ]
    }
   ],
   "source": [
    "import numpy as np\n",
    "import time\n",
    "\n",
    "# Generate the random samples\n",
    "sample = np.random.randn(1,10000000);\n",
    "\n",
    "# Compute the sum of squares the non-vectorized way (using a for loop)\n",
    "start1 = time.time()\n",
    "ans_for = 0;\n",
    "for x in sample:\n",
    "    ans_for += x*x;\n",
    "end1 = time.time()\n",
    "time1 = end1-start1;\n",
    "\n",
    "# Compute the sum of squares the vectorized way (using numpy)\n",
    "sample_array = np.squeeze(np.asarray(sample));\n",
    "start2 = time.time()\n",
    "np.dot(sample_array, sample_array);\n",
    "end2 = time.time()\n",
    "time2 = end2-start2;\n",
    "\n",
    "x = time1/time2;\n",
    "# Print the results\n",
    "print(\"Time [sec] (non-vectorized): %f\" % time1)\n",
    "print(\"Time [sec] vectorized: %f\" % time2)\n",
    "print(\"The vectorized code is %f times faster than the vectorized code\" % x)\n",
    "\n"
   ]
  },
  {
   "cell_type": "markdown",
   "metadata": {},
   "source": [
    "## 8\n",
    "One popular Agile development framework is Scrum (a paradigm recommended for data science projects). It emphasizes the continual evolution of code for projects, becoming progressively better, but starting with a quickly developed minimum viable product. This often means that code written early on is not optimized, and that's a good thing - it's best to get it to work first before optimizing. Imagine that you wrote the following code during a sprint towards getting an end-to-end system working. Vectorize the following code and show the difference in speed between the current implementation and a vectorized version.\n",
    "\n",
    "The function below computes the function $f(x,y) = x^2 - 2 y^2$ and determines whether this quantity is above or below a given threshold, `thresh=0`. This is done for $x,y \\in \\{-4,4\\}$, with 2,000 samples in each direction.\n",
    "\n",
    "(a) Vectorize this code and demonstrate (as in the last exercise) the speed increase through vectorization and (b) plot the resulting data - both the function $f(x,y)$ and the thresholded output - using [`imshow`](https://matplotlib.org/api/_as_gen/matplotlib.pyplot.imshow.html?highlight=matplotlib%20pyplot%20imshow#matplotlib.pyplot.imshow) from `matplotlib`.\n",
    "\n",
    "*Hint: look at the `numpy` [`meshgrid`](https://docs.scipy.org/doc/numpy-1.13.0/reference/generated/numpy.meshgrid.html) documentation*"
   ]
  },
  {
   "cell_type": "code",
   "execution_count": 72,
   "metadata": {},
   "outputs": [
    {
     "name": "stdout",
     "output_type": "stream",
     "text": [
      "Time [sec] (non-vectorized): 6.568287\n",
      "Time [sec] vectorized: 0.057442\n",
      "The vectorized code is 114.346517 times faster than the vectorized code\n"
     ]
    },
    {
     "data": {
      "image/png": "[encoded data removed]",
      "text/plain": [
       "<matplotlib.figure.Figure at 0x1938534a8>"
      ]
     },
     "metadata": {},
     "output_type": "display_data"
    },
    {
     "data": {
      "image/png": "[encoded data removed]",
      "text/plain": [
       "<matplotlib.figure.Figure at 0x1938d5d30>"
      ]
     },
     "metadata": {},
     "output_type": "display_data"
    }
   ],
   "source": [
    "import numpy as np\n",
    "import time\n",
    "import matplotlib.pyplot as plt\n",
    "\n",
    "# Initialize variables for this exerise\n",
    "x = np.linspace(-4, 4, 2000)\n",
    "y = np.linspace(-4, 4, 2000)\n",
    "\n",
    "\n",
    "\n",
    "# Nonvectorized implementation\n",
    "start1 = time.time()\n",
    "f1 = np.ones ((2000, 2000));\n",
    "for i in range(len(x)-1):\n",
    "    for j in range(len(y)-1):\n",
    "        val = x[i]*x[i]-2*y[j]*y[j];\n",
    "        if (val > 0):\n",
    "            f1[i,j] = val\n",
    "        else:\n",
    "            f1[i,j] = -1  \n",
    "end1 = time.time()\n",
    "time1 = end1-start1;        \n",
    "\n",
    "# Vectorized implementation\n",
    "xx, yy = np.meshgrid(x,y);\n",
    "start2 = time.time()\n",
    "f2 = np.square(xx) - 2 * np.square(yy);\n",
    "thresh = np.where(f2>0, f2, 0)\n",
    "end2 = time.time()\n",
    "time2 = end2-start2;\n",
    "x = time1/time2;\n",
    "\n",
    "# Print the time for each and the speed increase\n",
    "print(\"Time [sec] (non-vectorized): %f\" % time1)\n",
    "print(\"Time [sec] vectorized: %f\" % time2)\n",
    "print(\"The vectorized code is %f times faster than the vectorized code\" % x)\n",
    "\n",
    "# Plot the result\n",
    "plt.imshow(f2, extent = (-4,4,-4,4))\n",
    "plt.xlabel('x')\n",
    "plt.ylabel('y')\n",
    "plt.title('F(x,y)')\n",
    "plt.show()\n",
    "plt.imshow(thresh, extent = (-4,4,-4,4))\n",
    "plt.xlabel('x')\n",
    "plt.ylabel('y')\n",
    "plt.title('F(x,y)>0')\n",
    "plt.show()\n",
    "\n"
   ]
  },
  {
   "cell_type": "markdown",
   "metadata": {},
   "source": [
    "## 9\n",
    "This exercise will walk through some basic numerical programming exercises.\n",
    "1. Synthesize $n=10^4$ normally distributed data points with mean $\\mu=2$ and a standard deviation of $\\sigma=1$. Call these observations from a random variable $X$, and call the vector of observations that you generate, $\\textbf{x}$.\n",
    "2. Calculate the mean and standard deviation of $\\textbf{x}$ to validate (1) and provide the result to a precision of four significant figures.\n",
    "3. Plot a histogram of the data in $\\textbf{x}$ with 30 bins\n",
    "4. What is the 90th percentile of $\\textbf{x}$? The 90th percentile is the value below which 90% of observations can be found.\n",
    "5. What is the 99th percentile of $\\textbf{x}$?\n",
    "6. Now synthesize $n=10^4$ normally distributed data points with mean $\\mu=0$ and a standard deviation of $\\sigma=3$. Call these observations from a random variable $Y$, and call the vector of observations that you generate, $\\textbf{y}$.\n",
    "7. Plot the histogram of the data in $\\textbf{y}$ on a (new) plot with the histogram of $\\textbf{x}$, so that both histograms can be seen and compared.\n",
    "8. Using the observations from $\\textbf{x}$ and $\\textbf{y}$, estimate $E[XY]$"
   ]
  },
  {
   "cell_type": "markdown",
   "metadata": {},
   "source": [
    "**ANSWER**"
   ]
  },
  {
   "cell_type": "code",
   "execution_count": 105,
   "metadata": {},
   "outputs": [
    {
     "name": "stdout",
     "output_type": "stream",
     "text": [
      "Expected mean = 2, Calculated mean = 2.015\n",
      "Expected standard deviation = 2, Calculated standard deviation = 0.9966\n"
     ]
    },
    {
     "data": {
      "image/png": "[encoded data removed]",
      "text/plain": [
       "<matplotlib.figure.Figure at 0x193e5a668>"
      ]
     },
     "metadata": {},
     "output_type": "display_data"
    },
    {
     "name": "stdout",
     "output_type": "stream",
     "text": [
      "90th Percentile of X = 3.306\n",
      "99th Percentile of X = 4.373\n"
     ]
    },
    {
     "data": {
      "image/png": "[encoded data removed]",
      "text/plain": [
       "<matplotlib.figure.Figure at 0x19301c780>"
      ]
     },
     "metadata": {},
     "output_type": "display_data"
    },
    {
     "name": "stdout",
     "output_type": "stream",
     "text": [
      "X and Y are independent. E[X,Y] = E[X][Y]. The expected value of a normal distribution is its mean.\n",
      "E[X,Y] = E[X][Y]= mean(x)*mean(y) = 0.043\n"
     ]
    }
   ],
   "source": [
    "import numpy as np\n",
    "import matplotlib.mlab as mlab\n",
    "import matplotlib.pyplot as plt\n",
    "\n",
    "# 1\n",
    "mu_x, sigma_x = 2, 1; # mean and standard deviation\n",
    "x = np.random.normal(mu_x, sigma_x, 10000);\n",
    "\n",
    "# 2\n",
    "print(\"Expected mean = 2, Calculated mean = {:.3f}\".format(np.mean(x)));\n",
    "print(\"Expected standard deviation = 2, Calculated standard deviation = {:.4f}\".format(np.std(x)));\n",
    "\n",
    "# 3\n",
    "n, bins, patches = plt.hist(x, 30, facecolor='green', edgecolor=\"black\", linewidth=1, alpha=0.75);\n",
    "plt.xlabel('X')\n",
    "plt.ylabel('Number of Samples in Bin')\n",
    "plt.title('Histogram of X with 30 Bins')\n",
    "plt.show();\n",
    "\n",
    "# 4\n",
    "print(\"90th Percentile of X = {:.3f}\".format(np.percentile(x,90)));\n",
    "\n",
    "# 5\n",
    "print(\"99th Percentile of X = {:.3f}\".format(np.percentile(x,99)));\n",
    "\n",
    "# 6\n",
    "mu_y, sigma_y = 0, 3; # mean and standard deviation\n",
    "y = np.random.normal(mu_y, sigma_y, 10000);\n",
    "\n",
    "# 7\n",
    "n_x, bins_x, patches_x = plt.hist(x, 30, facecolor='blue', edgecolor=\"black\", linewidth=1, alpha=0.40);\n",
    "n_y, bins_y, patches_y = plt.hist(y, 30, facecolor='green', edgecolor=\"black\", linewidth=2, alpha=0.25);\n",
    "plt.xlabel('Sample Range')\n",
    "plt.ylabel('Number of Samples in Bin')\n",
    "plt.title('Histograms of X and Y with 30 Bins')\n",
    "plt.legend(['X','Y'])\n",
    "plt.show();\n",
    "\n",
    "# 8\n",
    "print(\"X and Y are independent. E[X,Y] = E[X][Y]. The expected value of a normal distribution is its mean.\");\n",
    "print(\"E[X,Y] = E[X][Y]= mean(x)*mean(y) = {:.3f}\".format(np.mean(x)*np.mean(y)));"
   ]
  },
  {
   "cell_type": "markdown",
   "metadata": {},
   "source": [
    "## 10\n",
    "Estimate the integral of the function $f(x)$ on the interval $0\\leq x < 2.5$ assuming we only know the following points from $f$:\n",
    "\n",
    "*Table 1. Dataset containing n=5 observations*\n",
    "\n",
    "| $x_i$ | 0.0 | 0.5 | 1.0 | 1.5 | 2.0 |\n",
    "|-|-|-|-|-|-|\n",
    "| $y_i$ | 6 | 7 | 8 | 4 | 1 |\n"
   ]
  },
  {
   "cell_type": "markdown",
   "metadata": {},
   "source": [
    "**ANSWER**\n",
    "\n",
    "Trapezoidal Rule Approximation: $\\int_{a}^{b} f(x) dx = \\frac{\\delta x}{2}[(f(x_o) + 2f(x_1) + 2f(x_2) +...+f(x_n)]$\n",
    "\n",
    "$\\int_{0}^{2.5} f(x) dx = \\frac{0.5}{2}[6+14+16+8+1]$\n",
    "\n",
    "$\\int_{0}^{2.5} f(x) dx = 11.25$\n"
   ]
  },
  {
   "cell_type": "markdown",
   "metadata": {
    "collapsed": true
   },
   "source": [
    "# Version Control via Git"
   ]
  },
  {
   "cell_type": "markdown",
   "metadata": {},
   "source": [
    "## 11\n",
    "Complete the [Atlassian Git tutorial](https://www.atlassian.com/git/tutorials/what-is-version-control), specifically the following sections. Try each concept that's presented. For this tutorial, instead of using BitBucket, use Github. Create a github account here if you don't already have one: https://github.com/\n",
    "1. [What is version control](https://www.atlassian.com/git/tutorials/what-is-version-control)\n",
    "2. [What is Git](https://www.atlassian.com/git/tutorials/what-is-git)\n",
    "3. [Install Git](https://www.atlassian.com/git/tutorials/install-git)\n",
    "4. [Setting up a repository](https://www.atlassian.com/git/tutorials/install-git)\n",
    "5. [Saving changes](https://www.atlassian.com/git/tutorials/saving-changes)\n",
    "6. [Inspecting a repository](https://www.atlassian.com/git/tutorials/inspecting-a-repository)\n",
    "7. [Undoing changes](https://www.atlassian.com/git/tutorials/undoing-changes)\n",
    "8. [Rewriting history](https://www.atlassian.com/git/tutorials/rewriting-history)\n",
    "9. [Syncing](https://www.atlassian.com/git/tutorials/syncing)\n",
    "10. [Making a pull request](https://www.atlassian.com/git/tutorials/making-a-pull-request)\n",
    "11. [Using branches](https://www.atlassian.com/git/tutorials/using-branches)\n",
    "12. [Comparing workflows](https://www.atlassian.com/git/tutorials/comparing-workflows)\n",
    "\n",
    "For your answer, affirm that you either completed the tutorial or have previous experience with all of the concepts above. Do this by typing your name below and selecting the situation that applies from the two options in brackets."
   ]
  },
  {
   "cell_type": "markdown",
   "metadata": {},
   "source": [
    "**ANSWER**\n",
    "\n",
    "*I, Lisa Sapozhnikov, affirm that I have completed the above tutorial.*"
   ]
  },
  {
   "cell_type": "markdown",
   "metadata": {},
   "source": [
    "## 12\n",
    "Using Github to create a static HTML website:\n",
    "1. Create a branch in your `machine-learning-course` repo called \"gh-pages\" and checkout that branch (this will provide an example of how to create a simple static website using [Github Pages](https://pages.github.com/))\n",
    "2. Create a file called \"index.html\" with the contents \"Hello World\" and add, commit, and push it to that branch.\n",
    "3. Submit the following: (a) a link to your github repository and (b) a link to your new \"Hello World\" website. The latter should be at the address https://[USERNAME].github.io/ECE590-assignment0 (where [USERNAME] is your github username)."
   ]
  },
  {
   "cell_type": "markdown",
   "metadata": {},
   "source": [
    "**ANSWER**\n",
    "\n",
    "Link to github repository: [https://github.com/lisasapoz/machine-learning-course](https://github.com/lisasapoz/machine-learning-course)\n",
    "\n",
    "Link to website: [https://lisasapoz.github.io/machine-learning-course/](https://lisasapoz.github.io/machine-learning-course/)\n",
    "\n"
   ]
  },
  {
   "cell_type": "markdown",
   "metadata": {
    "collapsed": true
   },
   "source": [
    "# Exploratory Data Analysis\n",
    "## 13\n",
    "Here you'll bring together some of the individual skills that you demonstrated above and create a Jupyter notebook based blog post on data analysis.\n",
    "\n",
    "1. Find a dataset that interests you and relates to a question or problem that you find intriguing\n",
    "2. Using a Jupyter notebook, describe the dataset, the source of the data, and the reason the dataset was of interest.\n",
    "3. Check the data and see if they need to be cleaned: are there missing values? Are there clearly erroneous values? Do two tables need to be merged together? Clean the data so it can be visualized.\n",
    "3. Plot the data, demonstrating interesting features that you discover. Are there any relationships between variables that were surprising or patterns that emerged? Please exercise creativity and curiosity in your plots.\n",
    "4. What insights are you able to take away from exploring the data? Is there a reason why analyzing the dataset you chose is particularly interesting or important? Summarize this as if your target audience was the readership of a major news organization - boil down your findings in a way that is accessible, but still accurate.\n",
    "5. Create a public repository on your github account titled \"machine-learning-course\". In it, create a readme file that contains the heading \"ECE590: Introductory Machine Learning for Data Science\". Add, commit, and push that Jupyter notebook to the master branch. Provide the link to the that post here."
   ]
  },
  {
   "cell_type": "markdown",
   "metadata": {},
   "source": [
    "**ANSWER**\n",
    "\n",
    "Github link: [https://github.com/lisasapoz/machine-learning-course/blob/master/Titanic%20Survival%20Data.ipynb](https://github.com/lisasapoz/machine-learning-course/blob/master/Titanic%20Survival%20Data.ipynb)\n",
    "\n"
   ]
  }
 ],
 "metadata": {
  "kernelspec": {
   "display_name": "Python 3",
   "language": "python",
   "name": "python3"
  },
  "language_info": {
   "codemirror_mode": {
    "name": "ipython",
    "version": 3
   },
   "file_extension": ".py",
   "mimetype": "text/x-python",
   "name": "python",
   "nbconvert_exporter": "python",
   "pygments_lexer": "ipython3",
   "version": "3.6.3"
  }
 },
 "nbformat": 4,
 "nbformat_minor": 2
}
